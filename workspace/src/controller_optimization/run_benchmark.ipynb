{
 "cells": [
  {
   "cell_type": "markdown",
   "metadata": {},
   "source": [
    "Running benchmark in notebook for debug.\n"
   ]
  },
  {
   "cell_type": "code",
   "execution_count": 1,
   "metadata": {},
   "outputs": [
    {
     "name": "stdout",
     "output_type": "stream",
     "text": [
      "/home/turtlewizard/thesis-mppi-model-ident/workspace/src/controller_optimization\n"
     ]
    }
   ],
   "source": [
    "import os\n",
    "import matplotlib.pyplot as plt\n",
    "BASE_PATH = os.path.abspath('')\n",
    "print(BASE_PATH)"
   ]
  },
  {
   "cell_type": "code",
   "execution_count": 2,
   "metadata": {},
   "outputs": [
    {
     "name": "stdout",
     "output_type": "stream",
     "text": [
      "Info: Hello from mockup logger.\n"
     ]
    }
   ],
   "source": [
    "# create mockup logger\n",
    "class Logger:\n",
    "    def info(self, msg: str) -> None:\n",
    "        print('Info: ' + msg)\n",
    "\n",
    "    def error(self, msg: str) -> None:\n",
    "        print('Error: ' + msg)\n",
    "\n",
    "    def debug(self, msg: str) -> None:\n",
    "        print('Debug: ' + msg)\n",
    "\n",
    "    def isEnabledFor(self, *args, **kwargs) -> bool:\n",
    "        return True\n",
    "\n",
    "\n",
    "logger = Logger()\n",
    "logger.info('Hello from mockup logger.')"
   ]
  },
  {
   "cell_type": "code",
   "execution_count": 3,
   "metadata": {},
   "outputs": [
    {
     "name": "stdout",
     "output_type": "stream",
     "text": [
      "Info: Loading config...\n",
      "Debug: Map config file: /home/turtlewizard/thesis-mppi-model-ident/workspace/src/controller_optimization/config/controller_benchmark_config.yaml\n",
      "Debug: Config: \n",
      " {'cmd_vel_topic': '/cmd_vel',\n",
      " 'controller': 'FollowPathMPPI',\n",
      " 'corridor_empty': {'goal_pose': {'x': 2.0, 'y': 0.0, 'yaw': 0.0},\n",
      "                    'path': 'maps/corridor_empty.yaml',\n",
      "                    'start_pose': {'x': 0.0, 'y': 0.0, 'yaw': 0.0}},\n",
      " 'corridor_mid_obstacles': {'goal_pose': {'x': 2.0, 'y': 0.0, 'yaw': 0.0},\n",
      "                            'path': 'maps/corridor_mid_obstacles.yaml',\n",
      "                            'start_pose': {'x': 0.0, 'y': 0.0, 'yaw': 0.0}},\n",
      " 'corridor_side_obstacles': {'goal_pose': {'x': 2.0, 'y': 0.0, 'yaw': 0.0},\n",
      "                             'path': 'maps/corridor_side_obstacles.yaml',\n",
      "                             'start_pose': {'x': 0.0, 'y': 0.0, 'yaw': 0.0}},\n",
      " 'costmap_topic': '/local_costmap/costmap',\n",
      " 'default_controller_params': 'config/controller_server_params_reformat/default_mppi_params_reformatted.yaml',\n",
      " 'maps': ['corridor_mid_obstacles'],\n",
      " 'mppi_critic_topic': '/mppi_critic_scores',\n",
      " 'odom_topic': '/odom',\n",
      " 'planner': 'GridBased',\n",
      " 'robot_name': 'turtlebot3_waffle',\n",
      " 'timestamp_format': '%Y-%m-%d-%H-%M'}\n",
      "Debug: BASE_PATH: /home/turtlewizard/thesis-mppi-model-ident/workspace/src/controller_optimization\n",
      "Debug: Controller params file: /home/turtlewizard/thesis-mppi-model-ident/workspace/src/controller_optimization/config/controller_server_params_reformat/default_mppi_params_reformatted.yaml\n",
      "Debug: Config: \n",
      " {'cmd_vel_topic': '/cmd_vel',\n",
      " 'controller': 'FollowPathMPPI',\n",
      " 'costmap_topic': '/local_costmap/costmap',\n",
      " 'default_controller_params': 'config/controller_server_params_reformat/default_mppi_params_reformatted.yaml',\n",
      " 'mppi_critic_topic': '/mppi_critic_scores',\n",
      " 'odom_topic': '/odom',\n",
      " 'planner': 'GridBased',\n",
      " 'robot_name': 'turtlebot3_waffle',\n",
      " 'timestamp_format': '%Y-%m-%d-%H-%M'}\n",
      "Debug: Default controller params: \n",
      " {'FollowPathMPPI.AckermannConstraints.min_turning_r': 0.2,\n",
      " 'FollowPathMPPI.ConstraintCritic.cost_power': 1,\n",
      " 'FollowPathMPPI.ConstraintCritic.cost_weight': 4.0,\n",
      " 'FollowPathMPPI.ConstraintCritic.enabled': True,\n",
      " 'FollowPathMPPI.CostCritic.collision_cost': 1000000.0,\n",
      " 'FollowPathMPPI.CostCritic.consider_footprint': True,\n",
      " 'FollowPathMPPI.CostCritic.cost_power': 1,\n",
      " 'FollowPathMPPI.CostCritic.cost_weight': 3.81,\n",
      " 'FollowPathMPPI.CostCritic.critical_cost': 300.0,\n",
      " 'FollowPathMPPI.CostCritic.enabled': True,\n",
      " 'FollowPathMPPI.CostCritic.near_goal_distance': 1.0,\n",
      " 'FollowPathMPPI.GoalAngleCritic.cost_power': 1,\n",
      " 'FollowPathMPPI.GoalAngleCritic.cost_weight': 3.0,\n",
      " 'FollowPathMPPI.GoalAngleCritic.enabled': True,\n",
      " 'FollowPathMPPI.GoalAngleCritic.threshold_to_consider': 0.5,\n",
      " 'FollowPathMPPI.GoalCritic.cost_power': 1,\n",
      " 'FollowPathMPPI.GoalCritic.cost_weight': 5.0,\n",
      " 'FollowPathMPPI.GoalCritic.enabled': True,\n",
      " 'FollowPathMPPI.GoalCritic.threshold_to_consider': 1.4,\n",
      " 'FollowPathMPPI.PathAlignCritic.cost_power': 1,\n",
      " 'FollowPathMPPI.PathAlignCritic.cost_weight': 14.0,\n",
      " 'FollowPathMPPI.PathAlignCritic.enabled': True,\n",
      " 'FollowPathMPPI.PathAlignCritic.max_path_occupancy_ratio': 0.05,\n",
      " 'FollowPathMPPI.PathAlignCritic.offset_from_furthest': 20,\n",
      " 'FollowPathMPPI.PathAlignCritic.threshold_to_consider': 0.5,\n",
      " 'FollowPathMPPI.PathAlignCritic.trajectory_point_step': 3,\n",
      " 'FollowPathMPPI.PathAlignCritic.use_path_orientations': False,\n",
      " 'FollowPathMPPI.PathAngleCritic.cost_power': 1,\n",
      " 'FollowPathMPPI.PathAngleCritic.cost_weight': 2.0,\n",
      " 'FollowPathMPPI.PathAngleCritic.enabled': True,\n",
      " 'FollowPathMPPI.PathAngleCritic.forward_preference': True,\n",
      " 'FollowPathMPPI.PathAngleCritic.max_angle_to_furthest': 1.0,\n",
      " 'FollowPathMPPI.PathAngleCritic.offset_from_furthest': 4,\n",
      " 'FollowPathMPPI.PathAngleCritic.threshold_to_consider': 0.5,\n",
      " 'FollowPathMPPI.PathFollowCritic.cost_power': 1,\n",
      " 'FollowPathMPPI.PathFollowCritic.cost_weight': 5.0,\n",
      " 'FollowPathMPPI.PathFollowCritic.enabled': True,\n",
      " 'FollowPathMPPI.PathFollowCritic.offset_from_furthest': 5,\n",
      " 'FollowPathMPPI.PathFollowCritic.threshold_to_consider': 1.4,\n",
      " 'FollowPathMPPI.PreferForwardCritic.cost_power': 1,\n",
      " 'FollowPathMPPI.PreferForwardCritic.cost_weight': 5.0,\n",
      " 'FollowPathMPPI.PreferForwardCritic.enabled': True,\n",
      " 'FollowPathMPPI.PreferForwardCritic.threshold_to_consider': 0.5,\n",
      " 'FollowPathMPPI.TrajectoryVisualizer.time_step': 3,\n",
      " 'FollowPathMPPI.TrajectoryVisualizer.trajectory_step': 5,\n",
      " 'FollowPathMPPI.batch_size': 2000,\n",
      " 'FollowPathMPPI.gamma': 0.015,\n",
      " 'FollowPathMPPI.iteration_count': 1,\n",
      " 'FollowPathMPPI.model_dt': 0.05,\n",
      " 'FollowPathMPPI.prune_distance': 1.7,\n",
      " 'FollowPathMPPI.publish_critics': True,\n",
      " 'FollowPathMPPI.temperature': 0.3,\n",
      " 'FollowPathMPPI.time_steps': 56,\n",
      " 'FollowPathMPPI.transform_tolerance': 0.1,\n",
      " 'FollowPathMPPI.visualize': False,\n",
      " 'FollowPathMPPI.vx_max': 0.5,\n",
      " 'FollowPathMPPI.vx_min': -0.35,\n",
      " 'FollowPathMPPI.vx_std': 0.2,\n",
      " 'FollowPathMPPI.vy_max': 0.5,\n",
      " 'FollowPathMPPI.vy_std': 0.2,\n",
      " 'FollowPathMPPI.wz_max': 1.9,\n",
      " 'FollowPathMPPI.wz_std': 0.4}\n",
      "Info: Loaded config in 0.0112 seconds.\n",
      "Info: Loading maps from...\n",
      "Debug: Maps: \n",
      " {'corridor_mid_obstacles': MapData(name='corridor_mid_obstacles',\n",
      "                                   path='/home/turtlewizard/thesis-mppi-model-ident/workspace/src/controller_optimization/maps/corridor_mid_obstacles.yaml',\n",
      "                                   start=geometry_msgs.msg.PoseStamped(header=std_msgs.msg.Header(stamp=builtin_interfaces.msg.Time(sec=0, nanosec=0), frame_id='map'), pose=geometry_msgs.msg.Pose(position=geometry_msgs.msg.Point(x=0.0, y=0.0, z=0.0), orientation=geometry_msgs.msg.Quaternion(x=0.0, y=0.0, z=0.0, w=1.0))),\n",
      "                                   goal=geometry_msgs.msg.PoseStamped(header=std_msgs.msg.Header(stamp=builtin_interfaces.msg.Time(sec=0, nanosec=0), frame_id='map'), pose=geometry_msgs.msg.Pose(position=geometry_msgs.msg.Point(x=2.0, y=0.0, z=0.0), orientation=geometry_msgs.msg.Quaternion(x=0.0, y=0.0, z=0.0, w=1.0))),\n",
      "                                   resolution=0.05,\n",
      "                                   origin=array([[-1. , -1.5]]))}\n",
      "Info: Loaded maps in 0.0045 seconds.\n",
      "Info: Initializing nodes...\n",
      "Debug: Initialized nodes: \n",
      " {'cmd_vel_sub': <utils.util_nodes.CmdVelSubscriber object at 0x7d10517db580>,\n",
      " 'gazebo_interface': <utils.util_nodes.GazeboInterface object at 0x7d1054eac610>,\n",
      " 'marker_server': <utils.util_nodes.MarkerServer object at 0x7d1054eaf190>,\n",
      " 'mppi_critic_sub': <utils.util_nodes.MPPICriticSubscriber object at 0x7d10517dbc40>,\n",
      " 'odom_sub': <utils.util_nodes.OdomSubscriber object at 0x7d1052b27220>,\n",
      " 'param_manager': <utils.parameter_manager.ParameterManager object at 0x7d1054dff370>}\n",
      "Info: Initialized nodes in 0.2298 seconds.\n",
      "Info: Launching nodes...\n",
      "Debug: Executors created: \n",
      "{'cmd_vel_sub': <rclpy.executors.MultiThreadedExecutor object at 0x7d10517d4430>,\n",
      " 'gazebo_interface': <rclpy.executors.MultiThreadedExecutor object at 0x7d10517d72b0>,\n",
      " 'marker_server': <rclpy.executors.MultiThreadedExecutor object at 0x7d10517d7400>,\n",
      " 'mppi_critic_sub': <rclpy.executors.MultiThreadedExecutor object at 0x7d10521f62c0>,\n",
      " 'odom_sub': <rclpy.executors.MultiThreadedExecutor object at 0x7d10517d51b0>,\n",
      " 'param_manager': <rclpy.executors.MultiThreadedExecutor object at 0x7d1092192a40>}\n",
      "Debug: Sub threads started: \n",
      "{'cmd_vel_sub': <Thread(Thread-8 (_spin_executor), started daemon 137508299998784)>,\n",
      " 'gazebo_interface': <Thread(Thread-6 (_spin_executor), started daemon 137508320970304)>,\n",
      " 'marker_server': <Thread(Thread-5 (_spin_executor), started daemon 137508331456064)>,\n",
      " 'mppi_critic_sub': <Thread(Thread-9 (_spin_executor), started daemon 137508289513024)>,\n",
      " 'odom_sub': <Thread(Thread-7 (_spin_executor), started daemon 137508310484544)>,\n",
      " 'param_manager': <Thread(Thread-4 (_spin_executor), started daemon 137508341941824)>}\n",
      "Info: Launched nodes in 0.0062 seconds.\n"
     ]
    },
    {
     "name": "stderr",
     "output_type": "stream",
     "text": [
      "[INFO] [1730311892.402329352] [parameter_manager]: ParameterManager for controller_server initialized\n",
      "[INFO] [1730311892.486887221] [gazebo_interface]: Gazebo interface initialized\n",
      "[INFO] [1730311892.491706433] [odom_subscriber]: odom_subscriber initialized\n",
      "[INFO] [1730311892.498108131] [cmd_vel_subscriber]: cmd_vel_subscriber initialized\n",
      "[INFO] [1730311892.504366595] [mppi_critic_subscriber]: mppi_critic_subscriber initialized\n"
     ]
    }
   ],
   "source": [
    "from controller_benchmark import ControllerBenchmark\n",
    "\n",
    "controller_benchmark = ControllerBenchmark(\n",
    "    logger=logger,\n",
    "    config_path=os.path.join(\n",
    "        BASE_PATH, 'config/controller_benchmark_config.yaml'),\n",
    "    base_path=BASE_PATH\n",
    ")\n",
    "\n",
    "controller_benchmark.launch_nodes()"
   ]
  },
  {
   "cell_type": "code",
   "execution_count": 4,
   "metadata": {},
   "outputs": [
    {
     "name": "stderr",
     "output_type": "stream",
     "text": [
      "[INFO] [1730311892.574374601] [parameter_manager]: Setting parameters for controller_server.\n"
     ]
    },
    {
     "name": "stdout",
     "output_type": "stream",
     "text": [
      "Info: Running benchmark...\n",
      "Info: Starting data collection.\n",
      "Info: Changing map to: corridor_mid_obstacles\n"
     ]
    },
    {
     "name": "stderr",
     "output_type": "stream",
     "text": [
      "[INFO] [1730311893.376717361] [basic_navigator]: Change map request was successful!\n",
      "[INFO] [1730311893.899678251] [basic_navigator]: Publishing Initial Pose\n"
     ]
    },
    {
     "name": "stdout",
     "output_type": "stream",
     "text": [
      "Info: Getting global plan for corridor_mid_obstacles with planner: GridBased.\n"
     ]
    },
    {
     "name": "stderr",
     "output_type": "stream",
     "text": [
      "[INFO] [1730311894.408176957] [basic_navigator]: Getting path...\n"
     ]
    },
    {
     "name": "stdout",
     "output_type": "stream",
     "text": [
      "Info: ___ Starting controller: FollowPathMPPI, on map: corridor_mid_obstacles. ___\n"
     ]
    },
    {
     "name": "stderr",
     "output_type": "stream",
     "text": [
      "[INFO] [1730311894.641318303] [basic_navigator]: Executing path...\n"
     ]
    },
    {
     "name": "stdout",
     "output_type": "stream",
     "text": [
      "Info: ___ Controller FollowPathMPPI on map corridor_mid_obstacles finished in 13.229366372000001 [s]. ___\n",
      "Debug: Collecting results between 1730311894.640535 and 1730311907.8699017.\n",
      "Info: Stopping data collection.\n",
      "Info: Benchmark finished in 15.2989 seconds.\n"
     ]
    }
   ],
   "source": [
    "# run benchmark with default parameters\n",
    "# controller_benchmark.run_benchmark()"
   ]
  },
  {
   "cell_type": "code",
   "execution_count": 22,
   "metadata": {},
   "outputs": [
    {
     "name": "stdout",
     "output_type": "stream",
     "text": [
      "Possible parameter combinations: 1000\n"
     ]
    }
   ],
   "source": [
    "import numpy as np\n",
    "from itertools import product\n",
    "# Generate a list of weights from 1-100\n",
    "n = 10\n",
    "weights = np.linspace(1.0, 100.0, n)\n",
    "critics = ['ConstraintCritic', 'GoalCritic', 'PreferForwardCritic',\n",
    "           'CostCritic', 'PathAlignCritic', 'PathFollowCritic', 'PathAngleCritic']\n",
    "\n",
    "# weights = [1.0, 10.0, 200.0]\n",
    "critics = ['ConstraintCritic', 'GoalCritic', 'PathFollowCritic']\n",
    "\n",
    "parameter_space = list(product(weights, repeat=len(critics)))\n",
    "print(f'Possible parameter combinations: {len(parameter_space)}')\n",
    "\n",
    "i = 0\n",
    "results: list[dict[int, bool]] = []\n",
    "critic_weights = []\n",
    "for weights in parameter_space:\n",
    "    params = {critic: weight for critic, weight in zip(critics, weights)}\n",
    "    critic_weights.append(params)\n",
    "\n",
    "    success, res = controller_benchmark.run_benchmark(parameters=params, store_results=False)\n",
    "    msg = 'successful' if success else 'unsuccessful'\n",
    "    print(f'Iteration {i} was {msg}. with weights {weights}')\n",
    "\n",
    "    controller_benchmark.save_result(res)\n",
    "\n",
    "    results.append({i: success})\n",
    "    i += 1"
   ]
  },
  {
   "cell_type": "code",
   "execution_count": 12,
   "metadata": {},
   "outputs": [
    {
     "name": "stdout",
     "output_type": "stream",
     "text": [
      "Fitting 2 folds for each of 100 candidates, totalling 200 fits\n",
      "Best parameters found: {'CostCritic.cost_weight': 1.0, 'PathFollowCritic.cost_weight': 1.0}\n"
     ]
    },
    {
     "name": "stderr",
     "output_type": "stream",
     "text": [
      "/usr/local/lib/python3.10/dist-packages/sklearn/model_selection/_validation.py:982: UserWarning: Scoring failed. The score on this train-test partition for these parameters will be set to nan. Details: \n",
      "Traceback (most recent call last):\n",
      "  File \"/usr/local/lib/python3.10/dist-packages/sklearn/model_selection/_validation.py\", line 969, in _score\n",
      "    scores = scorer(estimator, X_test, **score_params)\n",
      "TypeError: _BaseScorer.__call__() missing 1 required positional argument: 'y_true'\n",
      "\n",
      "  warnings.warn(\n",
      "/usr/local/lib/python3.10/dist-packages/sklearn/model_selection/_search.py:1103: UserWarning: One or more of the test scores are non-finite: [nan nan nan nan nan nan nan nan nan nan nan nan nan nan nan nan nan nan\n",
      " nan nan nan nan nan nan nan nan nan nan nan nan nan nan nan nan nan nan\n",
      " nan nan nan nan nan nan nan nan nan nan nan nan nan nan nan nan nan nan\n",
      " nan nan nan nan nan nan nan nan nan nan nan nan nan nan nan nan nan nan\n",
      " nan nan nan nan nan nan nan nan nan nan nan nan nan nan nan nan nan nan\n",
      " nan nan nan nan nan nan nan nan nan nan]\n",
      "  warnings.warn(\n"
     ]
    }
   ],
   "source": [
    "import numpy as np\n",
    "from sklearn.base import BaseEstimator\n",
    "from sklearn.model_selection import GridSearchCV\n",
    "import copy\n",
    "\n",
    "# Generate a list of weights from 1-100\n",
    "n = 10\n",
    "weights = np.linspace(1.0, 100.0, n)\n",
    "\n",
    "critics = ['ConstraintCritic', 'GoalCritic', 'PreferForwardCritic',\n",
    "           'CostCritic', 'PathAlignCritic', 'PathFollowCritic', 'PathAngleCritic']\n",
    "\n",
    "critics = ['CostCritic', 'PathFollowCritic']\n",
    "\n",
    "# Create the parameter grid\n",
    "param_grid = {}\n",
    "for critic in critics:\n",
    "    param_grid[critic + '.cost_weight'] = copy.deepcopy(weights)\n",
    "\n",
    "\n",
    "def evaluate_mppi_config(params):\n",
    "    controller_benchmark.run_benchmark(params)\n",
    "\n",
    "    # Run the simulation and get performance metrics\n",
    "    metric = controller_benchmark.calculate_metric()\n",
    "\n",
    "    # Calculate a performance score\n",
    "    performance_score = metric.ms_linear_jerk * 5.0 + metric.ms_angular_jerk\n",
    "\n",
    "    return performance_score  # Lower score indicates better performance\n",
    "\n",
    "\n",
    "class MPPIControllerOptimizer(BaseEstimator):\n",
    "    def __init__(self):\n",
    "        self.params = controller_benchmark.default_controller_params\n",
    "\n",
    "    def fit(self, X, y=None):\n",
    "        # This method is required but does not need to do anything for grid search\n",
    "        return self\n",
    "\n",
    "    def set_params(self, **params):\n",
    "        # Update parameters with the new values from grid search\n",
    "        for critic in critics:\n",
    "            self.params[critic + '.cost_weight'] = params[critic + '.cost_weight']\n",
    "        return self\n",
    "\n",
    "    def score(self, X, y=None):\n",
    "        # Call the evaluation function with the parameters\n",
    "        return -evaluate_mppi_config(self.params)  # Negate for minimization\n",
    "\n",
    "\n",
    "# Instantiate the optimizer and perform the grid search\n",
    "optimizer = MPPIControllerOptimizer()\n",
    "grid_search = GridSearchCV(\n",
    "    estimator=optimizer,\n",
    "    param_grid=param_grid,\n",
    "    scoring='neg_mean_squared_error',  # Use a scoring method suitable for your evaluation\n",
    "    cv=2,  # Change this to at least 2\n",
    "    verbose=1\n",
    ")\n",
    "\n",
    "# Fit the grid search (the input X can be any valid input; it's not used here)\n",
    "X_dummy = np.random.rand(3, 1)\n",
    "grid_search.fit(X=X_dummy)  # Dummy input, as we only need parameter search here\n",
    "\n",
    "# Get the best parameters\n",
    "best_params = grid_search.best_params_\n",
    "print(\"Best parameters found:\", best_params)"
   ]
  }
 ],
 "metadata": {
  "kernelspec": {
   "display_name": "Python 3",
   "language": "python",
   "name": "python3"
  },
  "language_info": {
   "codemirror_mode": {
    "name": "ipython",
    "version": 3
   },
   "file_extension": ".py",
   "mimetype": "text/x-python",
   "name": "python",
   "nbconvert_exporter": "python",
   "pygments_lexer": "ipython3",
   "version": "3.10.12"
  }
 },
 "nbformat": 4,
 "nbformat_minor": 2
}
